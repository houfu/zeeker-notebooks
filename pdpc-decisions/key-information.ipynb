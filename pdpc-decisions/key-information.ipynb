{
 "cells": [
  {
   "cell_type": "markdown",
   "metadata": {
    "collapsed": true,
    "pycharm": {
     "name": "#%% md\n"
    }
   },
   "source": [
    "# Let's grab some information\n",
    "\n",
    "In this notebook, we try our very best to get some key information\n",
    "from the text versions of the pdpc decisions.\n",
    "This key information is meant to enhance the pdpc decisions database.\n",
    "\n",
    "## Table of contents\n",
    "1. Citation\n",
    "2. DP Case Number\n",
    "3. Cases cited in the decision\n",
    "4. Result (warning, directions, penalties)"
   ]
  },
  {
   "cell_type": "code",
   "source": [
    "import os\n",
    "\n",
    "os.getcwd()\n",
    "\n",
    "# Let's load some samples\n",
    "samples = []\n",
    "sample_decision_files = [\n",
    "    \"pdpc_decisions/corpus/2016-10-05 GMM Technoworld.txt\",\n",
    "    \"pdpc_decisions/corpus/2017-06-20 Hazel Florist & Gifts.txt\",\n",
    "    \"pdpc_decisons/corpus/2018-05-03 NTUC Income.txt\",\n",
    "    \"pdpc_decisions/corpus/2018-12-13 Funding Societies.txt\",\n",
    "    \"pdpc_decisions/corpus/2019-04-23 PAP Community Foundation.txt\",\n",
    "    \"pdpc_decisions/corpus/2019-07-04 AgcDesign.txt\",\n",
    "    \"pdpc_decisions/corpus/2019-11-04 EU Holidays.txt\",\n",
    "]\n",
    "\n",
    "for file in sample_decision_files:\n",
    "    with open(file, 'r', encoding='utf8') as infile:\n",
    "        samples.append(infile.read())\n",
    "\n",
    "print(samples)"
   ],
   "metadata": {
    "collapsed": false,
    "pycharm": {
     "name": "#%% \n",
     "is_executing": false
    }
   },
   "execution_count": 6,
   "outputs": [
    {
     "traceback": [
      "\u001b[1;31m---------------------------------------------------------------------------\u001b[0m",
      "\u001b[1;31mFileNotFoundError\u001b[0m                         Traceback (most recent call last)",
      "\u001b[1;32m<ipython-input-6-1c709f47b5d4>\u001b[0m in \u001b[0;36m<module>\u001b[1;34m\u001b[0m\n\u001b[0;32m     12\u001b[0m \u001b[1;33m\u001b[0m\u001b[0m\n\u001b[0;32m     13\u001b[0m \u001b[1;32mfor\u001b[0m \u001b[0mfile\u001b[0m \u001b[1;32min\u001b[0m \u001b[0msample_decision_files\u001b[0m\u001b[1;33m:\u001b[0m\u001b[1;33m\u001b[0m\u001b[1;33m\u001b[0m\u001b[0m\n\u001b[1;32m---> 14\u001b[1;33m     \u001b[1;32mwith\u001b[0m \u001b[0mopen\u001b[0m\u001b[1;33m(\u001b[0m\u001b[0mfile\u001b[0m\u001b[1;33m,\u001b[0m \u001b[1;34m'r'\u001b[0m\u001b[1;33m,\u001b[0m \u001b[0mencoding\u001b[0m\u001b[1;33m=\u001b[0m\u001b[1;34m'utf8'\u001b[0m\u001b[1;33m)\u001b[0m \u001b[1;32mas\u001b[0m \u001b[0minfile\u001b[0m\u001b[1;33m:\u001b[0m\u001b[1;33m\u001b[0m\u001b[1;33m\u001b[0m\u001b[0m\n\u001b[0m\u001b[0;32m     15\u001b[0m         \u001b[0msamples\u001b[0m\u001b[1;33m.\u001b[0m\u001b[0mappend\u001b[0m\u001b[1;33m(\u001b[0m\u001b[0minfile\u001b[0m\u001b[1;33m.\u001b[0m\u001b[0mread\u001b[0m\u001b[1;33m(\u001b[0m\u001b[1;33m)\u001b[0m\u001b[1;33m)\u001b[0m\u001b[1;33m\u001b[0m\u001b[1;33m\u001b[0m\u001b[0m\n\u001b[0;32m     16\u001b[0m \u001b[1;33m\u001b[0m\u001b[0m\n",
      "\u001b[1;31mFileNotFoundError\u001b[0m: [Errno 2] No such file or directory: 'PycharmProjects/pdpc-decisions/pdpc_decisons/corpus/2018-05-03 NTUC Income.txt'"
     ],
     "ename": "FileNotFoundError",
     "evalue": "[Errno 2] No such file or directory: 'PycharmProjects/pdpc-decisions/pdpc_decisons/corpus/2018-05-03 NTUC Income.txt'",
     "output_type": "error"
    }
   ]
  }
 ],
 "metadata": {
  "kernelspec": {
   "display_name": "Python 3",
   "language": "python",
   "name": "python3"
  },
  "language_info": {
   "codemirror_mode": {
    "name": "ipython",
    "version": 2
   },
   "file_extension": ".py",
   "mimetype": "text/x-python",
   "name": "python",
   "nbconvert_exporter": "python",
   "pygments_lexer": "ipython2",
   "version": "2.7.6"
  },
  "pycharm": {
   "stem_cell": {
    "cell_type": "raw",
    "source": [],
    "metadata": {
     "collapsed": false
    }
   }
  }
 },
 "nbformat": 4,
 "nbformat_minor": 0
}