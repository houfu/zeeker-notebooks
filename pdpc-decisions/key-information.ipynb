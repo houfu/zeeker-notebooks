{
 "cells": [
  {
   "cell_type": "markdown",
   "metadata": {
    "collapsed": true,
    "pycharm": {
     "name": "#%% md\n"
    }
   },
   "source": [
    "# Let's grab some information\n",
    "\n",
    "In this notebook, we try our very best to get some key information\n",
    "from the text versions of the pdpc decisions.\n",
    "This key information is meant to enhance the pdpc decisions database.\n",
    "\n",
    "## Table of contents\n",
    "1. Citation\n",
    "2. DP Case Number\n",
    "3. Cases cited in the decision\n",
    "4. Result (warning, directions, penalties)"
   ]
  },
  {
   "cell_type": "code",
   "execution_count": 1,
   "metadata": {
    "pycharm": {
     "is_executing": false,
     "name": "#%% \n"
    }
   },
   "outputs": [
    {
     "data": {
      "text/markdown": [
       "### The following variables are now available:\n",
       "* `db_client` -- access the MongoDB Atlas ZeekerDB (Read only) \n",
       "* `data_collection` -- collection of documents containing meta information of a decision \n",
       "* `corpus_collection` -- collection of documents containing the text of a decision"
      ],
      "text/plain": [
       "<IPython.core.display.Markdown object>"
      ]
     },
     "metadata": {},
     "output_type": "display_data"
    }
   ],
   "source": [
    "# We set up the environment\n",
    "\n",
    "import pandas as pd\n",
    "import spacy\n",
    "\n",
    "%run ../set_up_zeekerDB.ipynb"
   ]
  },
  {
   "cell_type": "code",
   "execution_count": 8,
   "metadata": {},
   "outputs": [
    {
     "data": {
      "text/html": [
       "<div>\n",
       "<style scoped>\n",
       "    .dataframe tbody tr th:only-of-type {\n",
       "        vertical-align: middle;\n",
       "    }\n",
       "\n",
       "    .dataframe tbody tr th {\n",
       "        vertical-align: top;\n",
       "    }\n",
       "\n",
       "    .dataframe thead th {\n",
       "        text-align: right;\n",
       "    }\n",
       "</style>\n",
       "<table border=\"1\" class=\"dataframe\">\n",
       "  <thead>\n",
       "    <tr style=\"text-align: right;\">\n",
       "      <th></th>\n",
       "      <th>id</th>\n",
       "      <th>respondent</th>\n",
       "    </tr>\n",
       "  </thead>\n",
       "  <tbody>\n",
       "    <tr>\n",
       "      <th>0</th>\n",
       "      <td>5e500520b4e43fce944cb3ca</td>\n",
       "      <td>Matthew Chiong Partnership</td>\n",
       "    </tr>\n",
       "    <tr>\n",
       "      <th>1</th>\n",
       "      <td>5e500517b4e43fce944cb3c3</td>\n",
       "      <td>GrabCar</td>\n",
       "    </tr>\n",
       "    <tr>\n",
       "      <th>2</th>\n",
       "      <td>5e500551b4e43fce944cb3eb</td>\n",
       "      <td>My Digital Lock</td>\n",
       "    </tr>\n",
       "    <tr>\n",
       "      <th>3</th>\n",
       "      <td>5e50053db4e43fce944cb3dc</td>\n",
       "      <td>MCST 4436 (River Isles)</td>\n",
       "    </tr>\n",
       "    <tr>\n",
       "      <th>4</th>\n",
       "      <td>5e500571b4e43fce944cb3f9</td>\n",
       "      <td>MCST and Managing Agents of Condominiums</td>\n",
       "    </tr>\n",
       "    <tr>\n",
       "      <th>5</th>\n",
       "      <td>5e500591b4e43fce944cb415</td>\n",
       "      <td>Challenger Technologies and Xirlynx Innovations</td>\n",
       "    </tr>\n",
       "    <tr>\n",
       "      <th>6</th>\n",
       "      <td>5e5004f5b4e43fce944cb3a8</td>\n",
       "      <td>Ninja Logistics</td>\n",
       "    </tr>\n",
       "  </tbody>\n",
       "</table>\n",
       "</div>"
      ],
      "text/plain": [
       "                         id                                       respondent\n",
       "0  5e500520b4e43fce944cb3ca                       Matthew Chiong Partnership\n",
       "1  5e500517b4e43fce944cb3c3                                          GrabCar\n",
       "2  5e500551b4e43fce944cb3eb                                  My Digital Lock\n",
       "3  5e50053db4e43fce944cb3dc                          MCST 4436 (River Isles)\n",
       "4  5e500571b4e43fce944cb3f9         MCST and Managing Agents of Condominiums\n",
       "5  5e500591b4e43fce944cb415  Challenger Technologies and Xirlynx Innovations\n",
       "6  5e5004f5b4e43fce944cb3a8                                  Ninja Logistics"
      ]
     },
     "execution_count": 8,
     "metadata": {},
     "output_type": "execute_result"
    }
   ],
   "source": [
    "# We sample some decisions to check if our code is working\n",
    "\n",
    "sample = data_collection.aggregate(\n",
    "   [ { \"$sample\": { \"size\": 7 } } ]\n",
    ")\n",
    "\n",
    "sample_df = pd.DataFrame([ {'id': result['_id'], 'respondent': result['respondent']} for result in sample])\n",
    "\n",
    "sample_df"
   ]
  },
  {
   "cell_type": "code",
   "execution_count": null,
   "metadata": {},
   "outputs": [],
   "source": [
    "def citation_search(text):\n",
    "    import re\n",
    "    citation_search = re.compile(r'\\s+\\[\\d{4}]\\s+(?:\\d\\s+)?[A-Z|()]+\\s+\\d+[\\s.]?\\s+')\n",
    "    \n",
    "    match = re.search(citation_search, text)\n",
    "    print(match)\n",
    "\n",
    "    \n"
   ]
  }
 ],
 "metadata": {
  "kernelspec": {
   "display_name": "Python 3",
   "language": "python",
   "name": "python3"
  },
  "language_info": {
   "codemirror_mode": {
    "name": "ipython",
    "version": 3
   },
   "file_extension": ".py",
   "mimetype": "text/x-python",
   "name": "python",
   "nbconvert_exporter": "python",
   "pygments_lexer": "ipython3",
   "version": "3.7.4"
  },
  "pycharm": {
   "stem_cell": {
    "cell_type": "raw",
    "metadata": {
     "collapsed": false
    },
    "source": []
   }
  }
 },
 "nbformat": 4,
 "nbformat_minor": 1
}
